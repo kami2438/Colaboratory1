{
  "cells": [
    {
      "cell_type": "markdown",
      "metadata": {
        "id": "view-in-github",
        "colab_type": "text"
      },
      "source": [
        "<a href=\"https://colab.research.google.com/github/kami2438/Colaboratory1/blob/main/0307_Matplotlib2_%E9%85%8D%E4%BB%98.ipynb\" target=\"_parent\"><img src=\"https://colab.research.google.com/assets/colab-badge.svg\" alt=\"Open In Colab\"/></a>"
      ]
    },
    {
      "cell_type": "markdown",
      "metadata": {
        "id": "ip9Zrpbke4SM"
      },
      "source": [
        "**箱ひげ図作成例**\n",
        "\n",
        "P196 の例を確認しながら、箱ひげ図の作成方法を勉強しましょう。\n",
        "\n",
        "出力例↓\n",
        "\n",
        "![0120.PNG](data:image/png;base64,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)"
      ]
    },
    {
      "cell_type": "code",
      "execution_count": null,
      "metadata": {
        "id": "YFs_8zhjgX3y"
      },
      "outputs": [],
      "source": [
        "# Matplotlibのインポート\n",
        "import matplotlib.pyplot as plt\n",
        "# matplotlib.styleのインポート\n",
        "import matplotlib.style\n",
        "# ggplotスタイルを設定\n",
        "matplotlib.style.use('ggplot')"
      ]
    },
    {
      "cell_type": "code",
      "execution_count": null,
      "metadata": {
        "colab": {
          "base_uri": "https://localhost:8080/",
          "height": 206
        },
        "id": "3dt7nKXEe14i",
        "outputId": "38666ea2-d92b-48c0-8220-d4b373f47721"
      },
      "outputs": [
        {
          "output_type": "execute_result",
          "data": {
            "text/html": [
              "\n",
              "  <div id=\"df-9997db22-a4ac-48d6-a7ab-8defaf94b1a2\">\n",
              "    <div class=\"colab-df-container\">\n",
              "      <div>\n",
              "<style scoped>\n",
              "    .dataframe tbody tr th:only-of-type {\n",
              "        vertical-align: middle;\n",
              "    }\n",
              "\n",
              "    .dataframe tbody tr th {\n",
              "        vertical-align: top;\n",
              "    }\n",
              "\n",
              "    .dataframe thead th {\n",
              "        text-align: right;\n",
              "    }\n",
              "</style>\n",
              "<table border=\"1\" class=\"dataframe\">\n",
              "  <thead>\n",
              "    <tr style=\"text-align: right;\">\n",
              "      <th></th>\n",
              "      <th>dogs</th>\n",
              "      <th>cats</th>\n",
              "    </tr>\n",
              "  </thead>\n",
              "  <tbody>\n",
              "    <tr>\n",
              "      <th>0</th>\n",
              "      <td>8</td>\n",
              "      <td>5</td>\n",
              "    </tr>\n",
              "    <tr>\n",
              "      <th>1</th>\n",
              "      <td>29</td>\n",
              "      <td>7</td>\n",
              "    </tr>\n",
              "    <tr>\n",
              "      <th>2</th>\n",
              "      <td>9</td>\n",
              "      <td>4</td>\n",
              "    </tr>\n",
              "    <tr>\n",
              "      <th>3</th>\n",
              "      <td>23</td>\n",
              "      <td>10</td>\n",
              "    </tr>\n",
              "    <tr>\n",
              "      <th>4</th>\n",
              "      <td>25</td>\n",
              "      <td>8</td>\n",
              "    </tr>\n",
              "  </tbody>\n",
              "</table>\n",
              "</div>\n",
              "      <button class=\"colab-df-convert\" onclick=\"convertToInteractive('df-9997db22-a4ac-48d6-a7ab-8defaf94b1a2')\"\n",
              "              title=\"Convert this dataframe to an interactive table.\"\n",
              "              style=\"display:none;\">\n",
              "        \n",
              "  <svg xmlns=\"http://www.w3.org/2000/svg\" height=\"24px\"viewBox=\"0 0 24 24\"\n",
              "       width=\"24px\">\n",
              "    <path d=\"M0 0h24v24H0V0z\" fill=\"none\"/>\n",
              "    <path d=\"M18.56 5.44l.94 2.06.94-2.06 2.06-.94-2.06-.94-.94-2.06-.94 2.06-2.06.94zm-11 1L8.5 8.5l.94-2.06 2.06-.94-2.06-.94L8.5 2.5l-.94 2.06-2.06.94zm10 10l.94 2.06.94-2.06 2.06-.94-2.06-.94-.94-2.06-.94 2.06-2.06.94z\"/><path d=\"M17.41 7.96l-1.37-1.37c-.4-.4-.92-.59-1.43-.59-.52 0-1.04.2-1.43.59L10.3 9.45l-7.72 7.72c-.78.78-.78 2.05 0 2.83L4 21.41c.39.39.9.59 1.41.59.51 0 1.02-.2 1.41-.59l7.78-7.78 2.81-2.81c.8-.78.8-2.07 0-2.86zM5.41 20L4 18.59l7.72-7.72 1.47 1.35L5.41 20z\"/>\n",
              "  </svg>\n",
              "      </button>\n",
              "      \n",
              "  <style>\n",
              "    .colab-df-container {\n",
              "      display:flex;\n",
              "      flex-wrap:wrap;\n",
              "      gap: 12px;\n",
              "    }\n",
              "\n",
              "    .colab-df-convert {\n",
              "      background-color: #E8F0FE;\n",
              "      border: none;\n",
              "      border-radius: 50%;\n",
              "      cursor: pointer;\n",
              "      display: none;\n",
              "      fill: #1967D2;\n",
              "      height: 32px;\n",
              "      padding: 0 0 0 0;\n",
              "      width: 32px;\n",
              "    }\n",
              "\n",
              "    .colab-df-convert:hover {\n",
              "      background-color: #E2EBFA;\n",
              "      box-shadow: 0px 1px 2px rgba(60, 64, 67, 0.3), 0px 1px 3px 1px rgba(60, 64, 67, 0.15);\n",
              "      fill: #174EA6;\n",
              "    }\n",
              "\n",
              "    [theme=dark] .colab-df-convert {\n",
              "      background-color: #3B4455;\n",
              "      fill: #D2E3FC;\n",
              "    }\n",
              "\n",
              "    [theme=dark] .colab-df-convert:hover {\n",
              "      background-color: #434B5C;\n",
              "      box-shadow: 0px 1px 3px 1px rgba(0, 0, 0, 0.15);\n",
              "      filter: drop-shadow(0px 1px 2px rgba(0, 0, 0, 0.3));\n",
              "      fill: #FFFFFF;\n",
              "    }\n",
              "  </style>\n",
              "\n",
              "      <script>\n",
              "        const buttonEl =\n",
              "          document.querySelector('#df-9997db22-a4ac-48d6-a7ab-8defaf94b1a2 button.colab-df-convert');\n",
              "        buttonEl.style.display =\n",
              "          google.colab.kernel.accessAllowed ? 'block' : 'none';\n",
              "\n",
              "        async function convertToInteractive(key) {\n",
              "          const element = document.querySelector('#df-9997db22-a4ac-48d6-a7ab-8defaf94b1a2');\n",
              "          const dataTable =\n",
              "            await google.colab.kernel.invokeFunction('convertToInteractive',\n",
              "                                                     [key], {});\n",
              "          if (!dataTable) return;\n",
              "\n",
              "          const docLinkHtml = 'Like what you see? Visit the ' +\n",
              "            '<a target=\"_blank\" href=https://colab.research.google.com/notebooks/data_table.ipynb>data table notebook</a>'\n",
              "            + ' to learn more about interactive tables.';\n",
              "          element.innerHTML = '';\n",
              "          dataTable['output_type'] = 'display_data';\n",
              "          await google.colab.output.renderOutput(dataTable, element);\n",
              "          const docLink = document.createElement('div');\n",
              "          docLink.innerHTML = docLinkHtml;\n",
              "          element.appendChild(docLink);\n",
              "        }\n",
              "      </script>\n",
              "    </div>\n",
              "  </div>\n",
              "  "
            ],
            "text/plain": [
              "   dogs  cats\n",
              "0     8     5\n",
              "1    29     7\n",
              "2     9     4\n",
              "3    23    10\n",
              "4    25     8"
            ]
          },
          "metadata": {},
          "execution_count": 3
        }
      ],
      "source": [
        "# 元となるデータの読み込み\n",
        "\n",
        "# pandas のインポート\n",
        "import pandas as pd\n",
        "\n",
        "# catsdogs.csvを読み込んで、dfという変数に格納する\n",
        "df = pd.read_csv('catsdogs.csv')\n",
        "\n",
        "# dfの先頭から5行を表示する\n",
        "df.head(5)"
      ]
    },
    {
      "cell_type": "code",
      "execution_count": null,
      "metadata": {
        "colab": {
          "base_uri": "https://localhost:8080/",
          "height": 282
        },
        "id": "FrXnSRwpgrju",
        "outputId": "87d94c7b-6860-4185-bdd9-c605e3f34790"
      },
      "outputs": [
        {
          "output_type": "display_data",
          "data": {
            "image/png": "[encoded data removed]",
            "text/plain": [
              "<Figure size 432x288 with 1 Axes>"
            ]
          },
          "metadata": {
            "needs_background": "light"
          }
        }
      ],
      "source": [
        "# 箱ひげ図の描画の対象データ「犬」の列を dogsdf に格納\n",
        "dogsdf = df.loc[:,'dogs']\n",
        "# 描画オブジェクト(fig)とサブプロット(ax)を生成\n",
        "fig,ax = plt.subplots()\n",
        "# グラフタイトル\n",
        "ax.set_title('dogs weight')\n",
        "# 表示ラベルを設定\n",
        "labelsdata = ['dogs']\n",
        "# 箱ひげ図を描写\n",
        "ax.boxplot(dogsdf,labels=labelsdata)\n",
        "#★★ Y軸の範囲を0～90に設定する\n",
        "plt.ylim([0,90])\n",
        "# 表示\n",
        "plt.show()"
      ]
    },
    {
      "cell_type": "markdown",
      "metadata": {
        "id": "rKnkDm16kPYp"
      },
      "source": [
        "上のグラフで、70の位置に白い丸が描画されています。これは何というか、print で表示してください。"
      ]
    },
    {
      "cell_type": "code",
      "execution_count": null,
      "metadata": {
        "id": "zHbiVkFQkpPN",
        "colab": {
          "base_uri": "https://localhost:8080/"
        },
        "outputId": "09d16d8f-a59c-48fa-e066-b65d68aee3d8"
      },
      "outputs": [
        {
          "output_type": "stream",
          "name": "stdout",
          "text": [
            "外れ値\n"
          ]
        }
      ],
      "source": [
        "print('外れ値')"
      ]
    },
    {
      "cell_type": "markdown",
      "metadata": {
        "id": "fVYQeBAxkoWT"
      },
      "source": [
        "上の例を参考に、猫の箱ひげ図を犬の箱ひげ図の横に並べる形で描画しましょう。\n"
      ]
    },
    {
      "cell_type": "code",
      "execution_count": null,
      "metadata": {
        "id": "hnu7XO5BlG-1",
        "colab": {
          "base_uri": "https://localhost:8080/",
          "height": 282
        },
        "outputId": "5c096d9b-8aa2-47ee-bd84-8bf425b8deb5"
      },
      "outputs": [
        {
          "output_type": "display_data",
          "data": {
            "image/png": "[encoded data removed]",
            "text/plain": [
              "<Figure size 432x288 with 1 Axes>"
            ]
          },
          "metadata": {
            "needs_background": "light"
          }
        }
      ],
      "source": [
        "# 箱ひげ図の描画の対象データ「犬」の列を dogsdf に格納\n",
        "dogsdf = df.loc[:, 'dogs']\n",
        "# 箱ひげ図に描画するための猫の列を catsdf に格納\n",
        "catsdf = df.loc[:, 'cats']\n",
        "\n",
        "# 描画オブジェクト(fig)とサブプロット(ax)を生成\n",
        "fig, ax = plt.subplots()\n",
        "\n",
        "# グラフタイトル\n",
        "ax.set_title('cats and dogs weight')\n",
        "\n",
        "# 表示ラベルを設定\n",
        "labelsdata = ['cats','dogs']\n",
        "\n",
        "# 箱ひげ図を描写\n",
        "ax.boxplot((catsdf, dogsdf),labels=labelsdata)\n",
        "\n",
        "# 表示\n",
        "plt.show()"
      ]
    },
    {
      "cell_type": "code",
      "execution_count": null,
      "metadata": {
        "colab": {
          "base_uri": "https://localhost:8080/",
          "height": 282
        },
        "id": "zdEdiVg4nXt-",
        "outputId": "76390217-9ece-45d0-91ee-0e6d5f6c6255"
      },
      "outputs": [
        {
          "output_type": "display_data",
          "data": {
            "image/png": "[encoded data removed]",
            "text/plain": [
              "<Figure size 432x288 with 1 Axes>"
            ]
          },
          "metadata": {}
        }
      ],
      "source": [
        "# グリッドを表示せず、横向きに表示する例\n",
        "\n",
        "# 箱ひげ図の描画の対象データ「犬」の列を dogsdf に格納\n",
        "dogsdf = df.loc[:, 'dogs']\n",
        "\n",
        "# 描画オブジェクト(fig)とサブプロット(ax)を生成\n",
        "fig, ax = plt.subplots()\n",
        "\n",
        "# グラフタイトル\n",
        "ax.set_title('dogs weight')\n",
        "\n",
        "# 表示ラベルを設定\n",
        "labelsdata = ['dogs']\n",
        "\n",
        "# 箱ひげ図を描写  vert=False で横向きになる\n",
        "ax.boxplot(dogsdf,labels=labelsdata, vert=False)\n",
        "\n",
        "#★★ X軸の範囲を0～90に設定する\n",
        "\n",
        "# グリッドを表示しない\n",
        "ax.grid(False)\n",
        "\n",
        "# 表示\n",
        "plt.show()"
      ]
    },
    {
      "cell_type": "markdown",
      "source": [
        "#日本語化しよう\n",
        "先ほど作成した「猫と犬を横に並べた猫の箱ひげ図」を日本語表示できるようにし、  \n",
        "ラベルを日本語名にしましょう。"
      ],
      "metadata": {
        "id": "4nFLDneSBQX-"
      }
    },
    {
      "cell_type": "code",
      "source": [
        "# japanize-matplotlibをインストールする\n",
        "!pip install japanize-matplotlib"
      ],
      "metadata": {
        "colab": {
          "base_uri": "https://localhost:8080/"
        },
        "id": "7rjVbX2T5jQA",
        "outputId": "fcc51a30-8c63-4395-ff55-726e3fcec1dd"
      },
      "execution_count": null,
      "outputs": [
        {
          "output_type": "stream",
          "name": "stdout",
          "text": [
            "Requirement already satisfied: japanize-matplotlib in /usr/local/lib/python3.7/dist-packages (1.1.3)\n",
            "Requirement already satisfied: matplotlib in /usr/local/lib/python3.7/dist-packages (from japanize-matplotlib) (3.2.2)\n",
            "Requirement already satisfied: kiwisolver>=1.0.1 in /usr/local/lib/python3.7/dist-packages (from matplotlib->japanize-matplotlib) (1.3.2)\n",
            "Requirement already satisfied: python-dateutil>=2.1 in /usr/local/lib/python3.7/dist-packages (from matplotlib->japanize-matplotlib) (2.8.2)\n",
            "Requirement already satisfied: cycler>=0.10 in /usr/local/lib/python3.7/dist-packages (from matplotlib->japanize-matplotlib) (0.11.0)\n",
            "Requirement already satisfied: pyparsing!=2.0.4,!=2.1.2,!=2.1.6,>=2.0.1 in /usr/local/lib/python3.7/dist-packages (from matplotlib->japanize-matplotlib) (3.0.7)\n",
            "Requirement already satisfied: numpy>=1.11 in /usr/local/lib/python3.7/dist-packages (from matplotlib->japanize-matplotlib) (1.21.5)\n",
            "Requirement already satisfied: six>=1.5 in /usr/local/lib/python3.7/dist-packages (from python-dateutil>=2.1->matplotlib->japanize-matplotlib) (1.15.0)\n"
          ]
        }
      ]
    },
    {
      "cell_type": "code",
      "source": [
        "# japanize-matplotlibをインポートする\n",
        "import japanize_matplotlib\n",
        "# 箱ひげ図の描画の対象データ「犬」の列を dogsdf に格納\n",
        "dogsdf = df.loc[:,'dogs']\n",
        "# 描画オブジェクト(fig)とサブプロット(ax)を生成\n",
        "fig,ax = plt.subplots()\n",
        "# グラフタイトルを日本語で設定\n",
        "ax.set_title('犬の体重')\n",
        "# 表示ラベルを日本語で設定\n",
        "labelsdata = ['犬']\n",
        "# 箱ひげ図を描写\n",
        "plt.boxplot(dogsdf,labels=labelsdata)\n",
        "# 表示\n",
        "plt.show()"
      ],
      "metadata": {
        "id": "OrkPvzjeBnXG",
        "colab": {
          "base_uri": "https://localhost:8080/",
          "height": 280
        },
        "outputId": "56cdb880-0c4b-461f-98ba-d6c1906554f1"
      },
      "execution_count": null,
      "outputs": [
        {
          "output_type": "display_data",
          "data": {
            "image/png": "[encoded data removed]",
            "text/plain": [
              "<Figure size 432x288 with 1 Axes>"
            ]
          },
          "metadata": {
            "needs_background": "light"
          }
        }
      ]
    }
  ],
  "metadata": {
    "colab": {
      "collapsed_sections": [],
      "name": "0307_Matplotlib2_配付.ipynb",
      "provenance": [],
      "include_colab_link": true
    },
    "kernelspec": {
      "display_name": "Python 3",
      "name": "python3"
    },
    "language_info": {
      "name": "python"
    }
  },
  "nbformat": 4,
  "nbformat_minor": 0
}